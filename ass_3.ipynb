{
  "nbformat": 4,
  "nbformat_minor": 0,
  "metadata": {
    "colab": {
      "name": "ass 3",
      "provenance": [],
      "collapsed_sections": []
    },
    "kernelspec": {
      "name": "python3",
      "display_name": "Python 3"
    },
    "language_info": {
      "name": "python"
    }
  },
  "cells": [
    {
      "cell_type": "code",
      "metadata": {
        "id": "fkEH_nRtvoYv"
      },
      "source": [
        "#1. Why are functions advantageous to have in your programs?\n",
        "\n",
        "#Functions reduce the need for duplicate code. This makes programs shorter, easier to read, and easier to update."
      ],
      "execution_count": null,
      "outputs": []
    },
    {
      "cell_type": "code",
      "metadata": {
        "id": "rhIXXJZ8v9wC"
      },
      "source": [
        "#2. When does the code in a function run: when it's specified or when it's called?\n",
        "\n",
        "# The code in a function executes when the function is called, not when the function is defined.\n",
        "\n"
      ],
      "execution_count": null,
      "outputs": []
    },
    {
      "cell_type": "code",
      "metadata": {
        "id": "mTUziiPJw0uC"
      },
      "source": [
        "#3. What statement creates a function?\n",
        "\n",
        "# The def statement creates a function."
      ],
      "execution_count": null,
      "outputs": []
    },
    {
      "cell_type": "code",
      "metadata": {
        "id": "47Su5pnExMQ_"
      },
      "source": [
        "#4.What is the difference between a function and a function call?\n",
        "\n",
        "# A function consists of the def statement and the code in its def clause.\n",
        "\n",
        "# A function call is what moves the program execution into the function, and the function call evaluates to the function’s return value."
      ],
      "execution_count": null,
      "outputs": []
    },
    {
      "cell_type": "code",
      "metadata": {
        "id": "OeJgd3I9yM0f"
      },
      "source": [
        "#5. How many global scopes are there in a Python program? How many local scopes?\n",
        "\n",
        "# There is one global scope, and a local scope is created whenever a function is called."
      ],
      "execution_count": null,
      "outputs": []
    },
    {
      "cell_type": "code",
      "metadata": {
        "id": "mYFUDXdYymq8"
      },
      "source": [
        "#6. What happens to variables in a local scope when the function call returns?\n",
        "\n",
        "# When a function returns, the local scope is destroyed, and all the variables in it are forgotten."
      ],
      "execution_count": null,
      "outputs": []
    },
    {
      "cell_type": "code",
      "metadata": {
        "id": "GX3GtAJPzFIH"
      },
      "source": [
        "#7. What is the concept of a return value? Is it possible to have a return value in an expression?\n",
        "\n",
        "# return value is the value that a function call evaluates to. Like any value, a return value can be used as part of an expression"
      ],
      "execution_count": null,
      "outputs": []
    },
    {
      "cell_type": "code",
      "metadata": {
        "id": "-nNzu243zSvx"
      },
      "source": [
        "#8. If a function does not have a return statement, what is the return value of a call to that function?\n",
        "\n",
        "# If there is no return statement for a function its return value is none."
      ],
      "execution_count": null,
      "outputs": []
    },
    {
      "cell_type": "code",
      "metadata": {
        "id": "j2pDE0DWzgQr"
      },
      "source": [
        "#9. How do you make a function variable refer to the global variable?\n",
        "\n",
        "#A global statement will force a variable in a function to refer to the global variable.\n"
      ],
      "execution_count": null,
      "outputs": []
    },
    {
      "cell_type": "code",
      "metadata": {
        "id": "I1Q0R9lTztDq"
      },
      "source": [
        "#10. What is the data type of None?\n",
        "\n",
        "#data type of None is NoneType."
      ],
      "execution_count": null,
      "outputs": []
    },
    {
      "cell_type": "code",
      "metadata": {
        "id": "8MNVkF0rz1yr"
      },
      "source": [
        "#11. What does the sentence import areallyourpetsnamederic do?\n",
        "\n",
        "#import statement imports a module named areallyourpetsnamederic."
      ],
      "execution_count": null,
      "outputs": []
    },
    {
      "cell_type": "code",
      "metadata": {
        "id": "TF1bN-iW0CRd"
      },
      "source": [
        "#12. If you had a bacon() feature in a spam module, what would you call it after importing spam?\n",
        "\n",
        "# this function can be called spam.bacon()"
      ],
      "execution_count": null,
      "outputs": []
    },
    {
      "cell_type": "code",
      "metadata": {
        "id": "MMG65PSW0Xne"
      },
      "source": [
        "#13. What can you do to save a programme from crashing if it encounters an error?\n",
        "\n",
        "# we can place the line of code that might cause an error in a try clause.\n",
        "\n"
      ],
      "execution_count": null,
      "outputs": []
    },
    {
      "cell_type": "code",
      "metadata": {
        "id": "fl3mq6Q50r4R"
      },
      "source": [
        "#14. What is the purpose of the try clause? What is the purpose of the except clause?\n",
        "\n",
        "# Try Clause- code that could potentially cause an error goes in the try clause.\n",
        "# Except Clause- code that executes if an error happens goes in the except clause."
      ],
      "execution_count": null,
      "outputs": []
    }
  ]
}