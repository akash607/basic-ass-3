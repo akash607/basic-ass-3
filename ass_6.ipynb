{
  "nbformat": 4,
  "nbformat_minor": 0,
  "metadata": {
    "colab": {
      "name": "ass 6",
      "provenance": [],
      "collapsed_sections": []
    },
    "kernelspec": {
      "name": "python3",
      "display_name": "Python 3"
    },
    "language_info": {
      "name": "python"
    }
  },
  "cells": [
    {
      "cell_type": "code",
      "metadata": {
        "id": "-U8S6MfPDE9h"
      },
      "source": [
        "#1. What are escape characters, and how do you use them?\n",
        "#the backslash \"\\\" is a special character, also called the escape character. It is used in representing certain whitespace characters: \\t is a tab, \\n is a newline, and \\r is a carriage return.  \""
      ],
      "execution_count": null,
      "outputs": []
    },
    {
      "cell_type": "code",
      "metadata": {
        "id": "q_jNyoFUDVPK"
      },
      "source": [
        "#2. What do the escape characters n and t stand for?\n",
        "# n stands for new line and t stands for tab\n"
      ],
      "execution_count": null,
      "outputs": []
    },
    {
      "cell_type": "code",
      "metadata": {
        "id": "9hP6XTh0EpMk"
      },
      "source": [
        "#3. What is the way to include backslash characters in a string?\n",
        "#   \\\\ escape character will represent a backslash character\n"
      ],
      "execution_count": null,
      "outputs": []
    },
    {
      "cell_type": "code",
      "metadata": {
        "id": "JC8Jvb5WE28i"
      },
      "source": [
        "#4. The string \"Howl's Moving Castle\" is a correct value. Why isn't the single quote character in the word Howl's not escaped a problem?\n",
        "#single quote in Howl's is fine because you’ve used double quotes to mark the beginning and end of the string"
      ],
      "execution_count": null,
      "outputs": []
    },
    {
      "cell_type": "code",
      "metadata": {
        "id": "F78HdoXjFLNR"
      },
      "source": [
        "#5. How do you write a string of newlines if you don't want to use the n character?\n",
        "# Multiline strings allow you to use newlines in strings without the \\n escape character."
      ],
      "execution_count": null,
      "outputs": []
    },
    {
      "cell_type": "code",
      "metadata": {
        "colab": {
          "base_uri": "https://localhost:8080/"
        },
        "id": "acpfGcBtFeMS",
        "outputId": "1bf5bf23-066e-4135-8fc3-78a04e37cb2e"
      },
      "source": [
        "#6. What are the values of the given expressions?\n",
        "print('hello,world'[1]) #\"e\"\n",
        "print('Hello, world!'[0:5]) #\"Hello\"\n",
        "print('Hello, world!'[:5])#\"hello\"\n",
        "print('Hello, world!'[3:]) #\"lo world!\""
      ],
      "execution_count": null,
      "outputs": [
        {
          "output_type": "stream",
          "text": [
            "e\n",
            "Hello\n",
            "Hello\n",
            "lo, world!\n"
          ],
          "name": "stdout"
        }
      ]
    },
    {
      "cell_type": "code",
      "metadata": {
        "colab": {
          "base_uri": "https://localhost:8080/"
        },
        "id": "e48tq3h8F0Ga",
        "outputId": "fd8aae99-16ec-4b9c-8ea2-ae497f9cd315"
      },
      "source": [
        "#7. What are the values of the following expressions?\n",
        "print('Hello'.upper()) #\"HELLO\"\n",
        "print('Hello'.upper().isupper()) #\"True\"\n",
        "print('Hello'.upper().lower()) #\"hello\"\n"
      ],
      "execution_count": null,
      "outputs": [
        {
          "output_type": "stream",
          "text": [
            "HELLO\n",
            "True\n",
            "hello\n"
          ],
          "name": "stdout"
        }
      ]
    },
    {
      "cell_type": "code",
      "metadata": {
        "colab": {
          "base_uri": "https://localhost:8080/"
        },
        "id": "KqmU2AANF4Cx",
        "outputId": "3530ee84-4acf-4ba3-843e-5ac1f9eb6aa8"
      },
      "source": [
        "#8. What are the values of the following expressions?\n",
        "print('Remember, remember, the fifth of July.'.split())\n",
        "print('-'.join('There can only one.'.split()))"
      ],
      "execution_count": null,
      "outputs": [
        {
          "output_type": "stream",
          "text": [
            "['Remember,', 'remember,', 'the', 'fifth', 'of', 'July.']\n",
            "There-can-only-one.\n"
          ],
          "name": "stdout"
        }
      ]
    },
    {
      "cell_type": "code",
      "metadata": {
        "id": "l9R2T4SEHkaN"
      },
      "source": [
        "#9. What are the methods for right-justifying, left-justifying, and centering a string?\n",
        "# rjust(), ljust(), and center() \n"
      ],
      "execution_count": null,
      "outputs": []
    },
    {
      "cell_type": "code",
      "metadata": {
        "id": "nhWyAOtOH7eC"
      },
      "source": [
        "#10. What is the best way to remove whitespace characters from the start or end?\n",
        "\n",
        "# lstrip() and rstrip() methods remove whitespace from the left and right ends of a string\n"
      ],
      "execution_count": null,
      "outputs": []
    }
  ]
}