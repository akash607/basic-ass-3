{
  "nbformat": 4,
  "nbformat_minor": 0,
  "metadata": {
    "colab": {
      "name": "ass 7",
      "provenance": [],
      "collapsed_sections": []
    },
    "kernelspec": {
      "name": "python3",
      "display_name": "Python 3"
    },
    "language_info": {
      "name": "python"
    }
  },
  "cells": [
    {
      "cell_type": "code",
      "metadata": {
        "id": "Vw7wa4ZyIZDM"
      },
      "source": [
        "#1. What is the name of the feature responsible for generating Regex objects?\n",
        "# The re.compile() function returns Regex objects."
      ],
      "execution_count": null,
      "outputs": []
    },
    {
      "cell_type": "code",
      "metadata": {
        "id": "1TBDEYVzIvxU"
      },
      "source": [
        "#2. Why do raw strings often appear in Regex objects?\n",
        "# Raw strings are used so that backslashes do not have to be escaped"
      ],
      "execution_count": null,
      "outputs": []
    },
    {
      "cell_type": "code",
      "metadata": {
        "id": "wXC6ogBtI7-R"
      },
      "source": [
        "#3. What is the return value of the search() method?\n",
        "# search() method returns Match objects."
      ],
      "execution_count": null,
      "outputs": []
    },
    {
      "cell_type": "code",
      "metadata": {
        "id": "4OGLFeuiJCzR"
      },
      "source": [
        "#4. From a Match item, how do you get the actual strings that match the pattern?\n",
        "#group() method returns strings of the matched text\n"
      ],
      "execution_count": null,
      "outputs": []
    },
    {
      "cell_type": "code",
      "metadata": {
        "id": "ceM111ePJP95"
      },
      "source": [
        "#5. In the regex which created from the r'(\\d\\d\\d)-(\\d\\d\\d-\\d\\d\\d\\d)', what does group zero cover? Group 2? Group 1?\n",
        "#Group 0 is the entire match, group 1 covers the first set of parentheses, and group 2 covers the second set of parentheses"
      ],
      "execution_count": null,
      "outputs": []
    },
    {
      "cell_type": "code",
      "metadata": {
        "id": "kru-__tOJcw5"
      },
      "source": [
        "#6. In standard expression syntax, parentheses and intervals have distinct meanings. How can you tell a regex that you want it to fit real parentheses and periods?\n",
        "#Periods and parentheses can be escaped with a backslash: \\., \\(, and \\)"
      ],
      "execution_count": null,
      "outputs": []
    },
    {
      "cell_type": "code",
      "metadata": {
        "id": "bpdCSGU9JjwI"
      },
      "source": [
        "#7. The findall() method returns a string list or a list of string tuples. What causes it to return one of the two options?\n",
        "# If the regex has no groups, a list of strings is returned. If the regex has groups, a list of tuples of strings is returned."
      ],
      "execution_count": null,
      "outputs": []
    },
    {
      "cell_type": "code",
      "metadata": {
        "id": "USo6IVbXJvFg"
      },
      "source": [
        "#8. In standard expressions, what does the | character mean?\n",
        "#  \"|\" character signifies matching “either, or” between two groups."
      ],
      "execution_count": null,
      "outputs": []
    },
    {
      "cell_type": "code",
      "metadata": {
        "id": "llwajH5ZJ7l3"
      },
      "source": [
        "#9. In regular expressions, what does the character stand for?\n",
        "# The ? character can either mean “match zero or one of the preceding group” or be used to signify nongreedy matching"
      ],
      "execution_count": null,
      "outputs": []
    },
    {
      "cell_type": "code",
      "metadata": {
        "id": "JgQMqPPzKkfH"
      },
      "source": [
        "#10.In regular expressions, what is the difference between the + and * characters?\n",
        "# + matches one or more. The * matches zero or more."
      ],
      "execution_count": null,
      "outputs": []
    },
    {
      "cell_type": "code",
      "metadata": {
        "id": "euunLrA4Kq5g"
      },
      "source": [
        ""
      ],
      "execution_count": null,
      "outputs": []
    }
  ]
}