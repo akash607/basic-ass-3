{
  "nbformat": 4,
  "nbformat_minor": 0,
  "metadata": {
    "colab": {
      "name": "Ass 5",
      "provenance": [],
      "collapsed_sections": []
    },
    "kernelspec": {
      "name": "python3",
      "display_name": "Python 3"
    },
    "language_info": {
      "name": "python"
    }
  },
  "cells": [
    {
      "cell_type": "code",
      "metadata": {
        "id": "1OUnsfo294xW"
      },
      "source": [
        "#1. What does an empty dictionary's code look like?\n",
        "empty={}"
      ],
      "execution_count": null,
      "outputs": []
    },
    {
      "cell_type": "code",
      "metadata": {
        "id": "Wt6d-PCE-bQd"
      },
      "source": [
        "#2. What is the value of a dictionary value with the key 'foo' and the value 42?\n",
        "value={'foo':42}"
      ],
      "execution_count": null,
      "outputs": []
    },
    {
      "cell_type": "code",
      "metadata": {
        "id": "schLx3lO-wrX"
      },
      "source": [
        "#3. What is the most significant distinction between a dictionary and a list?\n",
        "\n",
        "#The items stored in a dictionary are unordered, while the items in a list are ordered."
      ],
      "execution_count": null,
      "outputs": []
    },
    {
      "cell_type": "code",
      "metadata": {
        "id": "Ptbg6v9w--gu"
      },
      "source": [
        "#4. What happens if you try to access spam['foo'] if spam is {'bar': 100}?\n",
        "\n",
        "# we'll get a key error"
      ],
      "execution_count": null,
      "outputs": []
    },
    {
      "cell_type": "code",
      "metadata": {
        "id": "Gv-ieRyF_Q-n"
      },
      "source": [
        "#5. If a dictionary is stored in spam, what is the difference between the expressions 'cat' in spam and 'cat' in spam.keys()?\n",
        "# There is no difference , in operator checks whether a value exists as a key in the dictionary."
      ],
      "execution_count": null,
      "outputs": []
    },
    {
      "cell_type": "code",
      "metadata": {
        "id": "2eopE8JlACmp"
      },
      "source": [
        "#6. If a dictionary is stored in spam, what is the difference between the expressions 'cat' in spam and 'cat' in spam.values()?\n",
        "\n",
        "#cat' in spam checks whether there is a 'cat' key in the dictionary, while 'cat' in spam.values() checks whether there is a value 'cat' for one of the keys in spam."
      ],
      "execution_count": null,
      "outputs": []
    },
    {
      "cell_type": "code",
      "metadata": {
        "id": "ZnLVnPAOAVdC"
      },
      "source": [
        "#7. What is a shortcut for the following code?\n",
        "#if 'color' not in spam:\n",
        "#spam['color'] = 'black'\n",
        "#Ans spam.setdefault('color', 'black')"
      ],
      "execution_count": null,
      "outputs": []
    },
    {
      "cell_type": "code",
      "metadata": {
        "id": "7c23OwDSAshj"
      },
      "source": [
        "#8. How do you \"pretty print\" dictionary values using which module and function?\n",
        "#pprint.pprint()"
      ],
      "execution_count": null,
      "outputs": []
    },
    {
      "cell_type": "code",
      "metadata": {
        "id": "_puif2gOB6ou"
      },
      "source": [
        ""
      ],
      "execution_count": null,
      "outputs": []
    }
  ]
}